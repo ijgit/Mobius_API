{
 "cells": [
  {
   "cell_type": "code",
   "execution_count": 27,
   "id": "780a045b-9385-462d-8414-321ce6fdc8db",
   "metadata": {},
   "outputs": [],
   "source": [
    "import os\n",
    "import json\n",
    "import requests\n",
    "import base64\n",
    "import wget\n",
    "\n",
    "# !python3 -m pip install wget"
   ]
  },
  {
   "cell_type": "code",
   "execution_count": 40,
   "id": "bf3e81ac-3570-4fd2-bc4f-25ae61613098",
   "metadata": {},
   "outputs": [],
   "source": [
    "ip = '203.253.128.161' #'172.17.237.189' #\"192.168.50.157\"\n",
    "port = '7579'\n",
    "cse = 'Mobius'\n",
    "ae = 'jeong'\n",
    "cnt = 'model'\n",
    "url = f'http://{ip}:{port}/{cse}/{ae}/{cnt}/la'\n",
    "headers = {\n",
    "  'Accept': 'application/json',\n",
    "  'X-M2M-RI': '12345',\n",
    "  'X-M2M-Origin': 'SOrigin',\n",
    "  'Content-Type': 'application/vnd.onem2m-res+json; ty=4'\n",
    "}"
   ]
  },
  {
   "cell_type": "code",
   "execution_count": 41,
   "id": "51023a9e-26a5-46eb-bd53-0cbab76f61b0",
   "metadata": {},
   "outputs": [],
   "source": [
    "def decodeFile(inputString):\n",
    "    file_64_encode = inputString\n",
    "    \n",
    "    #change string to binary string\n",
    "    file_64_encode = file_64_encode.encode('ascii')\n",
    "    file_64_decode = base64.decodebytes(file_64_encode)\n",
    "\n",
    "    # write output file\n",
    "    file_result = open('re_saved_model.pb', 'wb')\n",
    "    file_result.write(file_64_decode)\n",
    "\n",
    "\n",
    "def getCinRequest():\n",
    "    payload = {}\n",
    "    response = requests.get(url, headers=headers, data=payload)\n",
    "    return response"
   ]
  },
  {
   "cell_type": "code",
   "execution_count": 49,
   "id": "c35b77b9-54b8-469f-a4c2-699ee51e48e5",
   "metadata": {
    "tags": []
   },
   "outputs": [],
   "source": [
    "container = getCinRequest()\n",
    "container = container.json()['m2m:cin'][\"con\"]\n",
    "\n",
    "file_url = container['url']\n",
    "file_name = container['filename']"
   ]
  },
  {
   "cell_type": "code",
   "execution_count": 54,
   "id": "6987bb07-8e36-4b33-a163-3d5e5c11c9de",
   "metadata": {},
   "outputs": [
    {
     "data": {
      "text/plain": [
       "'./tf-lite/frozen_graph.pb'"
      ]
     },
     "execution_count": 54,
     "metadata": {},
     "output_type": "execute_result"
    }
   ],
   "source": [
    "wget.download(f'http://{file_url}', f'./tf-lite/{file_name}')"
   ]
  },
  {
   "cell_type": "code",
   "execution_count": null,
   "id": "86e00665-5a95-42a8-97d6-aa4c15227b5d",
   "metadata": {},
   "outputs": [],
   "source": []
  }
 ],
 "metadata": {
  "kernelspec": {
   "display_name": "tf_2.5.0",
   "language": "python",
   "name": "tf_2.5.0"
  },
  "language_info": {
   "codemirror_mode": {
    "name": "ipython",
    "version": 3
   },
   "file_extension": ".py",
   "mimetype": "text/x-python",
   "name": "python",
   "nbconvert_exporter": "python",
   "pygments_lexer": "ipython3",
   "version": "3.6.9"
  }
 },
 "nbformat": 4,
 "nbformat_minor": 5
}
