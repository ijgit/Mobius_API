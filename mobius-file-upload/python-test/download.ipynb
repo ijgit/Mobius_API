{
 "cells": [
  {
   "cell_type": "code",
   "execution_count": 9,
   "id": "bf3e81ac-3570-4fd2-bc4f-25ae61613098",
   "metadata": {},
   "outputs": [],
   "source": [
    "import requests\n",
    "\n",
    "ip = '203.253.128.161' #'172.17.237.189' #\"192.168.50.157\"\n",
    "port = '7579'\n",
    "cse = 'Mobius'\n",
    "ae = 'jeong'\n",
    "cnt = 'model'\n",
    "url = f'http://{ip}:{port}/{cse}/{ae}/{cnt}/la'\n",
    "headers = {\n",
    "  'Accept': 'application/json',\n",
    "  'X-M2M-RI': '12345',\n",
    "  'X-M2M-Origin': 'SOrigin',\n",
    "  'Content-Type': 'application/vnd.onem2m-res+json; ty=4'\n",
    "}"
   ]
  },
  {
   "cell_type": "code",
   "execution_count": 10,
   "id": "51023a9e-26a5-46eb-bd53-0cbab76f61b0",
   "metadata": {},
   "outputs": [],
   "source": [
    "def getCinRequest():\n",
    "    payload = {}\n",
    "    response = requests.get(url, headers=headers, data=payload)\n",
    "    return response"
   ]
  },
  {
   "cell_type": "code",
   "execution_count": 11,
   "id": "c35b77b9-54b8-469f-a4c2-699ee51e48e5",
   "metadata": {
    "tags": []
   },
   "outputs": [],
   "source": [
    "container = getCinRequest()\n",
    "container = container.json()['m2m:cin'][\"con\"]\n",
    "\n",
    "file_url = container['url']\n",
    "file_name = container['filename']"
   ]
  },
  {
   "cell_type": "code",
   "execution_count": 12,
   "id": "32205626",
   "metadata": {},
   "outputs": [
    {
     "data": {
      "text/plain": [
       "'http://192.168.50.157:3000/models/download?cnt=model&id=619b154a1e5346168a6b805a&filename=frozen_graph.pb'"
      ]
     },
     "execution_count": 12,
     "metadata": {},
     "output_type": "execute_result"
    }
   ],
   "source": [
    "file_url"
   ]
  },
  {
   "cell_type": "code",
   "execution_count": 13,
   "id": "f98ea278",
   "metadata": {},
   "outputs": [
    {
     "data": {
      "text/plain": [
       "'103344290'"
      ]
     },
     "execution_count": 13,
     "metadata": {},
     "output_type": "execute_result"
    }
   ],
   "source": [
    "res = requests.get(file_url, stream=True)\n",
    "res.headers['content-length']"
   ]
  },
  {
   "cell_type": "code",
   "execution_count": null,
   "id": "86e00665-5a95-42a8-97d6-aa4c15227b5d",
   "metadata": {},
   "outputs": [],
   "source": [
    "res = requests.get(file_url, stream=True)\n",
    "\n",
    "with open(file_name, 'wb') as f:\n",
    "    for chunk in res.iter_content(chunk_size=64*2048):\n",
    "        if chunk:\n",
    "            f.write(chunk)"
   ]
  }
 ],
 "metadata": {
  "interpreter": {
   "hash": "90c1abda42c0af2146d38b7b6d163636c3d7da75f9029d5dd968bd7b28bba37b"
  },
  "kernelspec": {
   "display_name": "tf_2.5.0",
   "language": "python",
   "name": "python3"
  },
  "language_info": {
   "codemirror_mode": {
    "name": "ipython",
    "version": 3
   },
   "file_extension": ".py",
   "mimetype": "text/x-python",
   "name": "python",
   "nbconvert_exporter": "python",
   "pygments_lexer": "ipython3",
   "version": "3.8.10"
  }
 },
 "nbformat": 4,
 "nbformat_minor": 5
}
