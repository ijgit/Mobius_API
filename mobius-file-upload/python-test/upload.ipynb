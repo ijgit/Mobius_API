{
 "cells": [
  {
   "cell_type": "code",
   "execution_count": 1,
   "id": "87f038ee-eaec-41d7-b9f1-95383f2fa9c2",
   "metadata": {},
   "outputs": [],
   "source": [
    "import requests"
   ]
  },
  {
   "cell_type": "code",
   "execution_count": 2,
   "id": "d3f92c5c-81f7-4a8f-a3e0-d1fb70cbb023",
   "metadata": {},
   "outputs": [
    {
     "data": {
      "text/plain": [
       "'{\"message\":\"File uploaded successfully, download link: http://192.168.50.157:3000/models/download?cnt=model&id=619b13ef1e5346168a6b7ecd&filename=frozen_graph.pb\"}'"
      ]
     },
     "execution_count": 2,
     "metadata": {},
     "output_type": "execute_result"
    }
   ],
   "source": [
    "url = \"http://192.168.50.157:3000/models/upload\"\n",
    "\n",
    "payload={\n",
    "    'cnt': 'model', \n",
    "    'ae': 'jeong',\n",
    "    'filename': 'frozen_graph.pb'\n",
    "}\n",
    "\n",
    "files=[\n",
    "  ('file',('frozen_graph.pb',open('./frozen_graph.pb','rb'),'application/octet-stream'))\n",
    "]\n",
    "headers = {}\n",
    "\n",
    "response = requests.post(url, headers=headers, data=payload, files=files)\n",
    "response.text"
   ]
  },
  {
   "cell_type": "code",
   "execution_count": null,
   "id": "6d38ea10-da9f-46be-90f2-4bc256ce1e14",
   "metadata": {},
   "outputs": [],
   "source": []
  }
 ],
 "metadata": {
  "interpreter": {
   "hash": "90c1abda42c0af2146d38b7b6d163636c3d7da75f9029d5dd968bd7b28bba37b"
  },
  "kernelspec": {
   "display_name": "tf_2.5.0",
   "language": "python",
   "name": "python3"
  },
  "language_info": {
   "codemirror_mode": {
    "name": "ipython",
    "version": 3
   },
   "file_extension": ".py",
   "mimetype": "text/x-python",
   "name": "python",
   "nbconvert_exporter": "python",
   "pygments_lexer": "ipython3",
   "version": "3.8.10"
  }
 },
 "nbformat": 4,
 "nbformat_minor": 5
}
